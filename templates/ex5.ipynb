{
 "cells": [
  {
   "cell_type": "code",
   "execution_count": 138,
   "metadata": {
    "id": "WduJB1nIcLu6"
   },
   "outputs": [],
   "source": [
    "import numpy as np\n",
    "import matplotlib.pyplot as plt"
   ]
  },
  {
   "cell_type": "code",
   "execution_count": 139,
   "metadata": {},
   "outputs": [],
   "source": [
    "plt.rcParams['figure.figsize'] = [8, 6]"
   ]
  },
  {
   "cell_type": "markdown",
   "metadata": {
    "id": "Scg1A6QvjCrr"
   },
   "source": [
    "# $\\star$ Question 1:\n",
    "Load the points from regression.npz. \n",
    "\n",
    "Estimate the weight parameters using m<sup>th</sup> order polynomials as basis functions using the MLestimator. \n",
    "\n",
    "Numpy has various tools to invert matrices or to compute SVDs.\n",
    "\n",
    "Plot the points together with the mean prediction. See how the outcome\n",
    "changes as you change m."
   ]
  },
  {
   "cell_type": "code",
   "execution_count": 140,
   "metadata": {
    "id": "XoaUsc7xkTL_"
   },
   "outputs": [
    {
     "data": {
      "text/plain": [
       "['arr_0']"
      ]
     },
     "execution_count": 140,
     "metadata": {},
     "output_type": "execute_result"
    }
   ],
   "source": [
    "# Since no info is given, load the file and check what it contains\n",
    "file = np.load(\"../data/regression.npz\")\n",
    "file.files"
   ]
  },
  {
   "cell_type": "code",
   "execution_count": 141,
   "metadata": {},
   "outputs": [
    {
     "data": {
      "text/plain": [
       "(20, 2)"
      ]
     },
     "execution_count": 141,
     "metadata": {},
     "output_type": "execute_result"
    }
   ],
   "source": [
    "# Load the data and check shape\n",
    "data = file['arr_0']\n",
    "data.shape"
   ]
  },
  {
   "cell_type": "code",
   "execution_count": 142,
   "metadata": {},
   "outputs": [
    {
     "data": {
      "text/plain": [
       "array([[0.8 , 0.12],\n",
       "       [0.85, 0.14],\n",
       "       [0.15, 0.45],\n",
       "       [0.9 , 0.31],\n",
       "       [0.98, 0.28]])"
      ]
     },
     "execution_count": 142,
     "metadata": {},
     "output_type": "execute_result"
    }
   ],
   "source": [
    "# Inspect the first couple of columns\n",
    "data[:5, :]"
   ]
  },
  {
   "cell_type": "code",
   "execution_count": 143,
   "metadata": {},
   "outputs": [
    {
     "data": {
      "text/plain": [
       "<matplotlib.collections.PathCollection at 0x7f428003df70>"
      ]
     },
     "execution_count": 143,
     "metadata": {},
     "output_type": "execute_result"
    },
    {
     "data": {
      "image/png": "[encoded data removed]",
      "text/plain": [
       "<Figure size 576x432 with 1 Axes>"
      ]
     },
     "metadata": {
      "needs_background": "light"
     },
     "output_type": "display_data"
    }
   ],
   "source": [
    "# Since no info is given assume that the first column are the feature samples and the second\n",
    "# column are the targets\n",
    "# Plot the points\n",
    "plt.scatter(data[:, 0], data[:, 1])"
   ]
  },
  {
   "cell_type": "code",
   "execution_count": 144,
   "metadata": {},
   "outputs": [
    {
     "data": {
      "text/plain": [
       "(array([[ 1.17789808],\n",
       "        [-5.28356955],\n",
       "        [ 4.62568993]]),\n",
       " array([[ 0.75099085],\n",
       "        [-1.67182518],\n",
       "        [-3.27712066],\n",
       "        [ 4.93983806]]))"
      ]
     },
     "execution_count": 144,
     "metadata": {},
     "output_type": "execute_result"
    }
   ],
   "source": [
    "# Get the dimensions\n",
    "n_points = data.shape[0]\n",
    "n_features = 1\n",
    "\n",
    "# Get the features\n",
    "features = data[:, 0]\n",
    "\n",
    "# Get the targets\n",
    "target = data[:, 1]\n",
    "\n",
    "# Create the basis function matrix \n",
    "first_col = np.ones((n_points))\n",
    "second_col = features\n",
    "third_col = features ** 2\n",
    "forth_col = features ** 3\n",
    "\n",
    "# Stack the arrays along the columns dimension\n",
    "phi_second = np.stack((first_col, second_col, third_col), axis=1)\n",
    "phi_third = np.stack((first_col, second_col, third_col, forth_col), axis=1)\n",
    "\n",
    "\n",
    "# Calculate the weights\n",
    "w_ml_second = np.linalg.pinv(phi_second) @ target\n",
    "w_ml_third = np.linalg.pinv(phi_third) @ target\n",
    "\n",
    "# Reshape weights and features for convenient numpy operations\n",
    "w_ml_second = w_ml_second.reshape(-1, 1)\n",
    "w_ml_third = w_ml_third.reshape(-1, 1)\n",
    "features = features.reshape(-1, 1)\n",
    "\n",
    "# Print the weights\n",
    "w_ml_second, w_ml_third"
   ]
  },
  {
   "cell_type": "code",
   "execution_count": 145,
   "metadata": {},
   "outputs": [
    {
     "data": {
      "image/png": "[encoded data removed]",
      "text/plain": [
       "<Figure size 576x432 with 1 Axes>"
      ]
     },
     "metadata": {
      "needs_background": "light"
     },
     "output_type": "display_data"
    }
   ],
   "source": [
    "# Create the predictions\n",
    "preds_second = phi_second @ w_ml_second\n",
    "preds_third = phi_third @ w_ml_third\n",
    "\n",
    "plt.scatter(features, target, label=\"True labels\")\n",
    "plt.scatter(features, preds_second, label=\"Predictions (2nd degree)\", marker=\"+\", s=200, alpha=0.4)\n",
    "plt.scatter(features, preds_third, label=\"Predictions (3rd degree)\", marker=\"*\", s=200, alpha=0.4)\n",
    "plt.legend()\n",
    "plt.grid()"
   ]
  },
  {
   "cell_type": "markdown",
   "metadata": {
    "id": "kxXQgLZZkTnm"
   },
   "source": [
    "# $\\star$ Question 2:\n",
    "\n",
    "Estimate the weights using the MAP estimator with the Gaussian prior\n",
    "from this class (ridge regression).\n",
    "\n",
    "Plot the points together with the mean prediction and the variance in the style of slide 14. \n",
    "\n",
    "See what happens as you use fewer and fewer points to estimate the weights.\n",
    "\n",
    "Also see what happens as you change the hyperparameter and the order of the\n",
    "polynomial m. When must be large, when can it be chosen smaller?"
   ]
  },
  {
   "cell_type": "code",
   "execution_count": 159,
   "metadata": {
    "id": "VmVbUnftkx3P"
   },
   "outputs": [
    {
     "data": {
      "text/plain": [
       "array([ 0.62299963, -2.09029759,  0.00798264,  1.8595712 ])"
      ]
     },
     "execution_count": 159,
     "metadata": {},
     "output_type": "execute_result"
    }
   ],
   "source": [
    "# MAP approach assuming isotropic gaussian with zero mean\n",
    "# Using 3rd degree polynomial, a = 0.05, b = 0.3\n",
    "# Create temp variable for convenience\n",
    "phi = phi_third.copy()\n",
    "\n",
    "S_n = 0.05 * np.eye(4) + phi.T @ phi\n",
    "m_n = np.linalg.inv(S_n) @ phi.T @ target\n",
    "\n",
    "# Print mean\n",
    "m_n"
   ]
  },
  {
   "cell_type": "code",
   "execution_count": 160,
   "metadata": {},
   "outputs": [
    {
     "data": {
      "image/png": "[encoded data removed]",
      "text/plain": [
       "<Figure size 576x432 with 1 Axes>"
      ]
     },
     "metadata": {
      "needs_background": "light"
     },
     "output_type": "display_data"
    }
   ],
   "source": [
    "# Predict\n",
    "preds = phi @ m_n\n",
    "\n",
    "# In order to draw a line, sort the features\n",
    "sorted_features = np.sort(features[:, 0])\n",
    "\n",
    "# Get the sorted indeces\n",
    "indx = features[:, 0].argsort()\n",
    "\n",
    "# Sort the predictions based on the indices\n",
    "sorted_preds = preds[indx]\n",
    "\n",
    "# Calculate variance\n",
    "var = 1/0.3 + phi.T @ np.linalg.inv(S_n) @ phi  # shape (20 x 20)\n",
    "\n",
    "# Plot the predictions \n",
    "plt.scatter(features, target, label=\"True labels\")\n",
    "plt.scatter(features, preds, label=\"Predictions (MAP, m=3, a=0.05, b=0.3)\", marker=\"*\", s=200, alpha=0.6, color=\"orange\")\n",
    "plt.plot(sorted_features, sorted_preds, color=\"orange\")\n",
    "plt.legend()\n",
    "plt.grid()"
   ]
  },
  {
   "cell_type": "markdown",
   "metadata": {
    "id": "TY3oSNXUkyIF"
   },
   "source": [
    "# $\\star \\star \\star$ Question 3:\n",
    "Find the optimum hyperparameters using the evidence approximation. \n",
    "It is not that hard. You know EM and you know how to\n",
    "estimate the weight parameters. Just combine these two. "
   ]
  },
  {
   "cell_type": "code",
   "execution_count": null,
   "metadata": {},
   "outputs": [],
   "source": []
  }
 ],
 "metadata": {
  "colab": {
   "name": "Untitled6.ipynb",
   "provenance": []
  },
  "kernelspec": {
   "display_name": "Python 3 (ipykernel)",
   "language": "python",
   "name": "python3"
  },
  "language_info": {
   "codemirror_mode": {
    "name": "ipython",
    "version": 3
   },
   "file_extension": ".py",
   "mimetype": "text/x-python",
   "name": "python",
   "nbconvert_exporter": "python",
   "pygments_lexer": "ipython3",
   "version": "3.8.13"
  }
 },
 "nbformat": 4,
 "nbformat_minor": 4
}
