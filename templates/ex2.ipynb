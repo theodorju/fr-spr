{
 "cells": [
  {
   "cell_type": "code",
   "execution_count": 2,
   "metadata": {
    "id": "h0FrAGlmstnq"
   },
   "outputs": [],
   "source": [
    "%matplotlib inline\n",
    "import numpy as np\n",
    "import matplotlib.pyplot as plt\n",
    "from matplotlib.patches import Ellipse"
   ]
  },
  {
   "cell_type": "code",
   "execution_count": 3,
   "metadata": {},
   "outputs": [],
   "source": [
    "plt.rcParams['figure.figsize'] = [12, 10]"
   ]
  },
  {
   "cell_type": "markdown",
   "metadata": {
    "id": "_n1dUCDbcPR0"
   },
   "source": [
    "# $\\star$ Question 2: \n",
    "Estimate the mean and covariance matrix of the dataset *gaussian.npz* via ML\n",
    "estimation.\n",
    "\n",
    "Plot the points and indicate the mean via a cross and the covariance via an\n",
    "ellipse. \n",
    "\n",
    "Consult the matplotlib documentation to see how to draw an ellipse. \n",
    "(https://matplotlib.org/3.1.1/api/_as_gen/matplotlib.patches.Ellipse.html)\n",
    "\n",
    "\n",
    "You obtain the ellipse axes by an eigen-decomposition of the matrix (Numpy function linalg.eig). \n",
    "\n",
    "The scaling of the axes is given by the eigenvalues. Review the concept of an eigen-decomposition in the\n",
    "internet or a math book if you lack this basic math knowledge."
   ]
  },
  {
   "cell_type": "markdown",
   "metadata": {
    "id": "YPFPSH6JePII"
   },
   "source": [
    "# Question 2.1: Mean and Covariance estimation \n",
    "Estimate the mean and covariance matrix of the dataset, you can compare these to the built in numpy functions and see if you see a difference."
   ]
  },
  {
   "cell_type": "code",
   "execution_count": 4,
   "metadata": {
    "id": "mIPf04qvqz9x"
   },
   "outputs": [
    {
     "data": {
      "text/plain": [
       "(100, 2)"
      ]
     },
     "execution_count": 4,
     "metadata": {},
     "output_type": "execute_result"
    }
   ],
   "source": [
    "# Load the dataset\n",
    "gaussian = np.load('../data/gaussian.npz')['arr_0']\n",
    "gaussian.shape"
   ]
  },
  {
   "cell_type": "code",
   "execution_count": 5,
   "metadata": {},
   "outputs": [
    {
     "data": {
      "text/plain": [
       "array([[ 2.53766714,  4.53428727],\n",
       "       [ 3.83388501,  4.98176918],\n",
       "       [-0.25884686, -0.30158736],\n",
       "       [ 2.86217332,  3.82168409],\n",
       "       [ 2.31876524,  3.74100458]])"
      ]
     },
     "execution_count": 5,
     "metadata": {},
     "output_type": "execute_result"
    }
   ],
   "source": [
    "# Inspect the first couple of elements\n",
    "gaussian[:5, :]  # each column represent a random variable, each row represents one measurement of each random variable"
   ]
  },
  {
   "cell_type": "code",
   "execution_count": 6,
   "metadata": {},
   "outputs": [
    {
     "data": {
      "text/plain": [
       "array([2.12308534, 3.12168402])"
      ]
     },
     "execution_count": 6,
     "metadata": {},
     "output_type": "execute_result"
    }
   ],
   "source": [
    "# Assuming that each of the 2 axis is a separate gaussian\n",
    "N, num_variables = gaussian.shape\n",
    "mean_ml = np.sum(gaussian, axis=0) / N\n",
    "mean_ml"
   ]
  },
  {
   "cell_type": "code",
   "execution_count": 7,
   "metadata": {},
   "outputs": [
    {
     "data": {
      "text/plain": [
       "array([2.12308534, 3.12168402])"
      ]
     },
     "execution_count": 7,
     "metadata": {},
     "output_type": "execute_result"
    }
   ],
   "source": [
    "# Mean calculated by numpy\n",
    "mean = np.mean(gaussian, axis=0)\n",
    "mean"
   ]
  },
  {
   "cell_type": "code",
   "execution_count": 8,
   "metadata": {},
   "outputs": [
    {
     "data": {
      "text/plain": [
       "array([[1.33765954, 2.0820358 ],\n",
       "       [2.0820358 , 3.98639368]])"
      ]
     },
     "execution_count": 8,
     "metadata": {},
     "output_type": "execute_result"
    }
   ],
   "source": [
    "# Set temp. variable for convenience\n",
    "x = gaussian.copy()\n",
    "\n",
    "# Covariance\n",
    "cov_ml = 1 / N * np.matmul((x - mean_ml).T, (x - mean_ml))\n",
    "cov_ml"
   ]
  },
  {
   "cell_type": "code",
   "execution_count": 9,
   "metadata": {},
   "outputs": [
    {
     "data": {
      "text/plain": [
       "array([[1.35117126, 2.10306646],\n",
       "       [2.10306646, 4.02666029]])"
      ]
     },
     "execution_count": 9,
     "metadata": {},
     "output_type": "execute_result"
    }
   ],
   "source": [
    "# Covariance corrected\n",
    "cov_ml_unbiased = cov_ml * N / (N - 1)\n",
    "cov_ml_unbiased"
   ]
  },
  {
   "cell_type": "code",
   "execution_count": 10,
   "metadata": {},
   "outputs": [
    {
     "data": {
      "text/plain": [
       "array([[1.35117126, 2.10306646],\n",
       "       [2.10306646, 4.02666029]])"
      ]
     },
     "execution_count": 10,
     "metadata": {},
     "output_type": "execute_result"
    }
   ],
   "source": [
    "# Covariance calculated by numpy\n",
    "cov_matrix = np.cov(gaussian, rowvar=False)\n",
    "cov_matrix"
   ]
  },
  {
   "cell_type": "code",
   "execution_count": 11,
   "metadata": {},
   "outputs": [
    {
     "data": {
      "text/plain": [
       "array([0.44321248, 2.27626761])"
      ]
     },
     "execution_count": 11,
     "metadata": {},
     "output_type": "execute_result"
    }
   ],
   "source": [
    "lambd, u = np.linalg.eig(cov_ml_unbiased)\n",
    "\n",
    "# Take the square root of lambd and print axes of ellipsis\n",
    "lambd = lambd ** 0.5\n",
    "lambd"
   ]
  },
  {
   "cell_type": "markdown",
   "metadata": {
    "id": "0j06--zaevaY"
   },
   "source": [
    "# Question 2.2: Plotting the graph\n",
    "Plot the points and indicate the mean via a cross and the covariance via an\n",
    "ellipse"
   ]
  },
  {
   "cell_type": "code",
   "execution_count": 12,
   "metadata": {
    "id": "hWvbNsOHqsOI"
   },
   "outputs": [
    {
     "data": {
      "image/png": "[encoded data removed]",
      "text/plain": [
       "<Figure size 864x720 with 1 Axes>"
      ]
     },
     "metadata": {
      "needs_background": "light"
     },
     "output_type": "display_data"
    }
   ],
   "source": [
    "fig, ax = plt.subplots(figsize=(12, 10))\n",
    "\n",
    "_ = ax.scatter(x[:, 0], x[:, 1])\n",
    "_ = ax.scatter(mean_ml[0], mean_ml[1], marker=\"*\", color=\"red\", s=500)\n",
    "ellipse = Ellipse((mean_ml[0], mean_ml[1]), 2 * lambd[0], 2 * lambd[1], \n",
    "                  np.rad2deg(np.arccos(u[0, 0])),\n",
    "                  edgecolor='red', lw=2, facecolor='none')\n",
    "_ = ax.grid()\n",
    "_ = ax.add_patch(ellipse)"
   ]
  },
  {
   "cell_type": "markdown",
   "metadata": {
    "id": "WEGDRJXMfnAM"
   },
   "source": [
    "# $\\star\\star$ Question 3:\n",
    "Create reduced datasets by considering only the first 2, 5, 10 points and estimate the mean via MAP. \n",
    "\n",
    "Use the ML estimate of the covariance $ \\Sigma $ <sub>**ML,100**</sub> (estimated from all 100 points) as known covariance. \n",
    "\n",
    "Assume the conjugate prior with $\\mu_0 = (2,3)^T $ and covariance $\\Sigma_0 =\\Sigma $ <sub>**ML,100**</sub>\n",
    "\n",
    "\n",
    "Draw the ML and the MAP estimates into the point clouds (the covariance is the same as it is assumed to be known here). \n",
    "\n",
    "How reliable is the ML estimate when there are only few measurements? \n",
    "\n",
    "Now work with a slightly wrong prior $\\mu_0 = (2,5)^T $\n",
    "and see how the effect of the prior is reduced as more measurements come\n",
    "in."
   ]
  },
  {
   "cell_type": "markdown",
   "metadata": {
    "id": "CVwvFvWAlLcR"
   },
   "source": [
    "# Question 3.1: Using the correct prior\n",
    "Using   $\\mu_0 = (2,3)^T $\n",
    "\n"
   ]
  },
  {
   "cell_type": "code",
   "execution_count": 58,
   "metadata": {
    "id": "0nmuWzc_qpww"
   },
   "outputs": [],
   "source": [
    "# Reduced datasets\n",
    "x_2 = x[:2, :].copy()\n",
    "x_5 = x[:5, :].copy()\n",
    "x_10 = x[:10, :].copy()\n",
    "\n",
    "# Initial mean (2, 3)\n",
    "m_0 = np.array([2, 3]).T\n",
    "\n",
    "# Intialial covariance\n",
    "cov_0 = cov_ml.copy()"
   ]
  },
  {
   "cell_type": "code",
   "execution_count": 59,
   "metadata": {
    "tags": []
   },
   "outputs": [
    {
     "name": "stdout",
     "output_type": "stream",
     "text": [
      "For 2 datapoints\n",
      "mean: [2.79051738 4.17201882], \n",
      "covariance: [[0.44588651 0.69401193]\n",
      " [0.69401193 1.32879789]]\n",
      "\n",
      "\n",
      "For 5 datapoints\n",
      "mean: [2.21560731 3.29619296], \n",
      "covariance: [[0.22294326 0.34700597]\n",
      " [0.34700597 0.66439895]]\n",
      "\n",
      "\n",
      "For 10 datapoints\n",
      "mean: [2.56752927 4.00546172], \n",
      "covariance: [[0.12160541 0.18927598]\n",
      " [0.18927598 0.36239943]]\n",
      "\n",
      "\n"
     ]
    }
   ],
   "source": [
    "def map_estimate(points, m_0, cov_0):\n",
    "    # Using the formulas 211 and 212 from here: https://www.cs.ubc.ca/~murphyk/Papers/bayesGauss.pdf\n",
    "    # and assuming cov_0 = cov\n",
    "    n_points = points.shape[0]\n",
    "    \n",
    "    # Inverse once and use later\n",
    "    cov_inv = np.linalg.inv(cov_0)\n",
    "    \n",
    "    # Calculate covariance based on MAP\n",
    "    cov_map = np.linalg.inv(cov_inv + n_points * cov_inv)\n",
    "    \n",
    "    # Calculate second term of mean MAP for convenience\n",
    "    temp = n_points * np.matmul(cov_inv, np.mean(points, axis=0)) + np.matmul(cov_inv, m_0)\n",
    "    \n",
    "    # Calculate mean based on MAP\n",
    "    mean_map = np.matmul(cov_map, temp)\n",
    "\n",
    "    print(\"For {} datapoints\\nmean: {}, \\ncovariance: {}\\n\\n\".format(n_points, mean_map, cov_map))\n",
    "    return mean_map, cov_map\n",
    "\n",
    "mean_map_2, cov_map_2 = map_estimate(x_2, m_0, cov_0)\n",
    "mean_map_5, cov_map_5 = map_estimate(x_5, m_0, cov_0)\n",
    "mean_map_10, cov_map_10 = map_estimate(x_10, m_0, cov_0)"
   ]
  },
  {
   "cell_type": "code",
   "execution_count": 60,
   "metadata": {},
   "outputs": [
    {
     "data": {
      "image/png": "[encoded data removed]",
      "text/plain": [
       "<Figure size 864x720 with 1 Axes>"
      ]
     },
     "metadata": {
      "needs_background": "light"
     },
     "output_type": "display_data"
    }
   ],
   "source": [
    "# Plot results\n",
    "fig, ax = plt.subplots(figsize=(12, 10))\n",
    "\n",
    "_ = ax.scatter(x[:, 0], x[:, 1])\n",
    "# Add mean markers\n",
    "_ = ax.scatter(m_0[0], m_0[1], marker=\"D\", color=\"red\", s=300, label=\"Prior\")\n",
    "_ = ax.scatter(mean_map_2[0], mean_map_2[1], marker=\"*\", color=\"red\", s=500, label=\"Two points\")\n",
    "_ = ax.scatter(mean_map_5[0], mean_map_5[1], marker=\"*\", color=\"black\", s=500, label=\"Five points\")\n",
    "_ = ax.scatter(mean_map_10[0], mean_map_10[1], marker=\"*\", color=\"blue\", s=500, label=\"Ten points\")\n",
    "\n",
    "\n",
    "# Actual numpy mean using 100 points\n",
    "mean_np = np.mean(x, axis=0)\n",
    "_ = ax.scatter(mean_np[0], mean_np[1], marker=\"P\", color=\"maroon\", s=500, label=\"Numpy\")\n",
    "\n",
    "# Add grid and legend\n",
    "_ = ax.legend()\n",
    "_ = ax.grid()"
   ]
  },
  {
   "cell_type": "markdown",
   "metadata": {
    "id": "6hqDM0OAl_Ic"
   },
   "source": [
    "# Question 3.2: Using a slightly wrong prior\n",
    "Using $\\mu_0 = (2,5)^T $"
   ]
  },
  {
   "cell_type": "code",
   "execution_count": 61,
   "metadata": {
    "id": "iFpRSggLqnax"
   },
   "outputs": [
    {
     "name": "stdout",
     "output_type": "stream",
     "text": [
      "For 2 datapoints\n",
      "mean: [2.79051738 4.83868548], \n",
      "covariance: [[0.44588651 0.69401193]\n",
      " [0.69401193 1.32879789]]\n",
      "\n",
      "\n",
      "For 5 datapoints\n",
      "mean: [2.21560731 3.62952629], \n",
      "covariance: [[0.22294326 0.34700597]\n",
      " [0.34700597 0.66439895]]\n",
      "\n",
      "\n",
      "For 10 datapoints\n",
      "mean: [2.56752927 4.1872799 ], \n",
      "covariance: [[0.12160541 0.18927598]\n",
      " [0.18927598 0.36239943]]\n",
      "\n",
      "\n"
     ]
    },
    {
     "data": {
      "image/png": "[encoded data removed]",
      "text/plain": [
       "<Figure size 864x720 with 1 Axes>"
      ]
     },
     "metadata": {
      "needs_background": "light"
     },
     "output_type": "display_data"
    }
   ],
   "source": [
    "# Change initial mean (2, 5)\n",
    "m_0 = np.array([2, 5]).T\n",
    "\n",
    "mean_map_2, cov_map_2 = map_estimate(x_2, m_0, cov_0)\n",
    "mean_map_5, cov_map_5 = map_estimate(x_5, m_0, cov_0)\n",
    "mean_map_10, cov_map_10 = map_estimate(x_10, m_0, cov_0)\n",
    "\n",
    "# Plot results\n",
    "fig, ax = plt.subplots(figsize=(12, 10))\n",
    "\n",
    "_ = ax.scatter(x[:, 0], x[:, 1])\n",
    "# Add mean markers\n",
    "_ = ax.scatter(m_0[0], m_0[1], marker=\"D\", color=\"red\", s=300, label=\"Prior\")\n",
    "_ = ax.scatter(mean_map_2[0], mean_map_2[1], marker=\"*\", color=\"red\", s=500, label=\"Two points\")\n",
    "_ = ax.scatter(mean_map_5[0], mean_map_5[1], marker=\"*\", color=\"black\", s=500, label=\"Five points\")\n",
    "_ = ax.scatter(mean_map_10[0], mean_map_10[1], marker=\"*\", color=\"blue\", s=500, label=\"Ten points\")\n",
    "\n",
    "\n",
    "# Actual numpy mean using 100 points\n",
    "mean_np = np.mean(x, axis=0)\n",
    "_ = ax.scatter(mean_np[0], mean_np[1], marker=\"P\", color=\"maroon\", s=500, label=\"Numpy\")\n",
    "\n",
    "# Add grid and legend\n",
    "_ = ax.legend()\n",
    "_ = ax.grid()"
   ]
  },
  {
   "cell_type": "markdown",
   "metadata": {
    "id": "zvbfBkcAm0YX"
   },
   "source": [
    "# $\\star$ Question 4:\n",
    "Estimate mean and covariance of the dataset *gaussianplus.npz* using ML and show\n",
    "the result. How well does the estimate reflect the true data?"
   ]
  },
  {
   "cell_type": "code",
   "execution_count": null,
   "metadata": {
    "id": "lMmKYJLuqlYQ"
   },
   "outputs": [],
   "source": []
  }
 ],
 "metadata": {
  "colab": {
   "collapsed_sections": [],
   "name": "Copy of Exercise2_SPR.ipynb",
   "provenance": []
  },
  "kernelspec": {
   "display_name": "Python 3 (ipykernel)",
   "language": "python",
   "name": "python3"
  },
  "language_info": {
   "codemirror_mode": {
    "name": "ipython",
    "version": 3
   },
   "file_extension": ".py",
   "mimetype": "text/x-python",
   "name": "python",
   "nbconvert_exporter": "python",
   "pygments_lexer": "ipython3",
   "version": "3.8.13"
  }
 },
 "nbformat": 4,
 "nbformat_minor": 4
}
